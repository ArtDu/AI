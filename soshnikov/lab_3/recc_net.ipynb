{
  "nbformat": 4,
  "nbformat_minor": 0,
  "metadata": {
    "kernelspec": {
      "display_name": "Python 3",
      "language": "python",
      "name": "python3"
    },
    "language_info": {
      "codemirror_mode": {
        "name": "ipython",
        "version": 3
      },
      "file_extension": ".py",
      "mimetype": "text/x-python",
      "name": "python",
      "nbconvert_exporter": "python",
      "pygments_lexer": "ipython3",
      "version": "3.8.2"
    },
    "colab": {
      "name": "recc_net.ipynb",
      "provenance": [],
      "collapsed_sections": [],
      "toc_visible": true
    },
    "accelerator": "GPU"
  },
  "cells": [
    {
      "cell_type": "code",
      "metadata": {
        "id": "2WMohwslFijU",
        "colab_type": "code",
        "colab": {}
      },
      "source": [
        "import tensorflow as tf\n",
        "import matplotlib.pyplot as plt\n",
        "import numpy as np\n",
        "import os\n",
        "import time"
      ],
      "execution_count": 0,
      "outputs": []
    },
    {
      "cell_type": "code",
      "metadata": {
        "id": "pXTqNgyFCtxl",
        "colab_type": "code",
        "outputId": "6942187b-ec2b-49bd-d85c-cb18d5abb640",
        "colab": {
          "base_uri": "https://localhost:8080/",
          "height": 34
        }
      },
      "source": [
        "from google.colab import drive\n",
        "drive.mount('/content/drive')"
      ],
      "execution_count": 2,
      "outputs": [
        {
          "output_type": "stream",
          "text": [
            "Drive already mounted at /content/drive; to attempt to forcibly remount, call drive.mount(\"/content/drive\", force_remount=True).\n"
          ],
          "name": "stdout"
        }
      ]
    },
    {
      "cell_type": "code",
      "metadata": {
        "id": "cUVM5nzNFijd",
        "colab_type": "code",
        "outputId": "af564dcf-e92e-469f-e602-c4a558d6976a",
        "colab": {
          "base_uri": "https://localhost:8080/",
          "height": 34
        }
      },
      "source": [
        "# path_to_file = 'merged_files.cpp' # for local\n",
        "path_to_file = '/content/drive/My Drive/studies/university/AI/merged_files.cpp' # for colab\n",
        "text = open(path_to_file, 'rb').read().decode(encoding='utf-8')\n",
        "# length of text is the number of characters in it\n",
        "print ('Length of text: {} characters'.format(len(text)))"
      ],
      "execution_count": 3,
      "outputs": [
        {
          "output_type": "stream",
          "text": [
            "Length of text: 4870656 characters\n"
          ],
          "name": "stdout"
        }
      ]
    },
    {
      "cell_type": "code",
      "metadata": {
        "id": "OLJwS7DjFijj",
        "colab_type": "code",
        "outputId": "55f210ba-efbf-4cf1-cf8b-1192ca7dfdea",
        "colab": {
          "base_uri": "https://localhost:8080/",
          "height": 238
        }
      },
      "source": [
        "# Take a look at the first 250 characters in text\n",
        "print(text[:250])"
      ],
      "execution_count": 4,
      "outputs": [
        {
          "output_type": "stream",
          "text": [
            "\n",
            "int main() {\n",
            "    srand(time(NULL));\n",
            "    test();\n",
            "    assert(!ANY_FAILED);\n",
            "    return 0;\n",
            "}\n",
            "bool ANY_FAILED = false;\n",
            "\n",
            "template <class T>\n",
            "void assert_equal(T expected, T actual, bool kill = false) {\n",
            "    if (!(expected == actual)) {\n",
            "        ANY_FAILED = \n"
          ],
          "name": "stdout"
        }
      ]
    },
    {
      "cell_type": "code",
      "metadata": {
        "id": "LWysBtszFijn",
        "colab_type": "code",
        "outputId": "2a87e8de-5a67-4bb0-cb12-697856a36305",
        "colab": {
          "base_uri": "https://localhost:8080/",
          "height": 34
        }
      },
      "source": [
        "# The unique characters in the file\n",
        "vocab = sorted(set(text))\n",
        "print ('{} unique characters'.format(len(vocab)))"
      ],
      "execution_count": 5,
      "outputs": [
        {
          "output_type": "stream",
          "text": [
            "96 unique characters\n"
          ],
          "name": "stdout"
        }
      ]
    },
    {
      "cell_type": "markdown",
      "metadata": {
        "id": "we13WzXzQk8i",
        "colab_type": "text"
      },
      "source": [
        "# Work with input"
      ]
    },
    {
      "cell_type": "markdown",
      "metadata": {
        "id": "hra_cb6VR0R7",
        "colab_type": "text"
      },
      "source": [
        "## Vectorize the text"
      ]
    },
    {
      "cell_type": "code",
      "metadata": {
        "id": "nSOptFA8Fijs",
        "colab_type": "code",
        "colab": {}
      },
      "source": [
        "# Creating a mapping from unique characters to indices\n",
        "char2idx = {u:i for i, u in enumerate(vocab)}\n",
        "idx2char = np.array(vocab)\n",
        "\n",
        "text_as_int = np.array([char2idx[c] for c in text])"
      ],
      "execution_count": 0,
      "outputs": []
    },
    {
      "cell_type": "code",
      "metadata": {
        "id": "dkopj1i_Fijw",
        "colab_type": "code",
        "outputId": "38bf9bbd-5c8f-42fe-a41f-059efc49a771",
        "colab": {
          "base_uri": "https://localhost:8080/",
          "height": 408
        }
      },
      "source": [
        "print('{')\n",
        "for char,_ in zip(char2idx, range(20)):\n",
        "    print('  {:4s}: {:3d},'.format(repr(char), char2idx[char]))\n",
        "print('  ...\\n}')"
      ],
      "execution_count": 7,
      "outputs": [
        {
          "output_type": "stream",
          "text": [
            "{\n",
            "  '\\n':   0,\n",
            "  ' ' :   1,\n",
            "  '!' :   2,\n",
            "  '\"' :   3,\n",
            "  '#' :   4,\n",
            "  '$' :   5,\n",
            "  '%' :   6,\n",
            "  '&' :   7,\n",
            "  \"'\" :   8,\n",
            "  '(' :   9,\n",
            "  ')' :  10,\n",
            "  '*' :  11,\n",
            "  '+' :  12,\n",
            "  ',' :  13,\n",
            "  '-' :  14,\n",
            "  '.' :  15,\n",
            "  '/' :  16,\n",
            "  '0' :  17,\n",
            "  '1' :  18,\n",
            "  '2' :  19,\n",
            "  ...\n",
            "}\n"
          ],
          "name": "stdout"
        }
      ]
    },
    {
      "cell_type": "code",
      "metadata": {
        "id": "MXGz0qUwFij0",
        "colab_type": "code",
        "outputId": "4a81dcaf-0b72-4a22-8bdc-815585588355",
        "colab": {
          "base_uri": "https://localhost:8080/",
          "height": 34
        }
      },
      "source": [
        "# Show how the first 13 characters from the text are mapped to integers\n",
        "print ('{} ---- characters mapped to int ---- > {}'.format(repr(text[:13]), text_as_int[:13]))"
      ],
      "execution_count": 8,
      "outputs": [
        {
          "output_type": "stream",
          "text": [
            "'\\nint main() {' ---- characters mapped to int ---- > [ 0 74 79 85  1 78 66 74 79  9 10  1 92]\n"
          ],
          "name": "stdout"
        }
      ]
    },
    {
      "cell_type": "markdown",
      "metadata": {
        "id": "x3_MoUyuehg-",
        "colab_type": "text"
      },
      "source": [
        "## Train test split"
      ]
    },
    {
      "cell_type": "code",
      "metadata": {
        "id": "d0IyD4pHel1N",
        "colab_type": "code",
        "colab": {}
      },
      "source": [
        "idx = int(len(text_as_int)*0.75)\n",
        "train_text_as_int = text_as_int[:idx]\n",
        "test_text_as_int = text_as_int[idx:]"
      ],
      "execution_count": 0,
      "outputs": []
    },
    {
      "cell_type": "markdown",
      "metadata": {
        "id": "RlKEo9ODh0SA",
        "colab_type": "text"
      },
      "source": [
        "## To sequences"
      ]
    },
    {
      "cell_type": "code",
      "metadata": {
        "id": "4H9AeUWbFij9",
        "colab_type": "code",
        "colab": {}
      },
      "source": [
        "# The maximum length sentence we want for a single input in characters\n",
        "seq_length = 100\n",
        "\n",
        "# Create training examples / targets\n",
        "train_char_dataset = tf.data.Dataset.from_tensor_slices(train_text_as_int)\n",
        "test_char_dataset = tf.data.Dataset.from_tensor_slices(test_text_as_int)"
      ],
      "execution_count": 0,
      "outputs": []
    },
    {
      "cell_type": "code",
      "metadata": {
        "id": "iSmnazsVFikE",
        "colab_type": "code",
        "outputId": "8ab73b13-c61d-443f-ff58-b4f62e50df30",
        "colab": {
          "base_uri": "https://localhost:8080/",
          "height": 102
        }
      },
      "source": [
        "train_sequences = train_char_dataset.batch(seq_length+1, drop_remainder=True)\n",
        "test_sequences = test_char_dataset.batch(seq_length+1, drop_remainder=True)\n",
        "\n",
        "for item in train_sequences.take(5):\n",
        "  print(repr(''.join(idx2char[item.numpy()])))"
      ],
      "execution_count": 11,
      "outputs": [
        {
          "output_type": "stream",
          "text": [
            "'\\nint main() {\\n    srand(time(NULL));\\n    test();\\n    assert(!ANY_FAILED);\\n    return 0;\\n}\\nbool ANY_FA'\n",
            "'ILED = false;\\n\\ntemplate <class T>\\nvoid assert_equal(T expected, T actual, bool kill = false) {\\n    if'\n",
            "' (!(expected == actual)) {\\n        ANY_FAILED = true;\\n        cout << \"Assertion failed:\" << endl;\\n  '\n",
            "'      cout << \"Expected: \" << expected << endl;\\n        cout << \"  Actual: \" << actual << endl;\\n     '\n",
            "'   if (kill) assert(false);\\n    }\\n}\\n\\ntemplate <class T>\\nvoid assert_not_equal(T not_expected, T actua'\n"
          ],
          "name": "stdout"
        }
      ]
    },
    {
      "cell_type": "markdown",
      "metadata": {
        "id": "RiATwIFiiGjH",
        "colab_type": "text"
      },
      "source": [
        "## Create <example, target>"
      ]
    },
    {
      "cell_type": "code",
      "metadata": {
        "id": "Ejj5PM8oFikK",
        "colab_type": "code",
        "colab": {}
      },
      "source": [
        "def split_input_target(chunk):\n",
        "    input_text = chunk[:-1]\n",
        "    target_text = chunk[1:]\n",
        "    return input_text, target_text\n",
        "\n",
        "train_dataset = train_sequences.map(split_input_target)\n",
        "test_dataset = test_sequences.map(split_input_target)"
      ],
      "execution_count": 0,
      "outputs": []
    },
    {
      "cell_type": "code",
      "metadata": {
        "id": "tKDaNwNOFikR",
        "colab_type": "code",
        "outputId": "3ad4f964-fbcd-4069-d233-b74858268433",
        "colab": {
          "base_uri": "https://localhost:8080/",
          "height": 51
        }
      },
      "source": [
        "for input_example, target_example in  train_dataset.take(1):\n",
        "  print ('Input data: ', repr(''.join(idx2char[input_example.numpy()])))\n",
        "  print ('Target data:', repr(''.join(idx2char[target_example.numpy()])))"
      ],
      "execution_count": 13,
      "outputs": [
        {
          "output_type": "stream",
          "text": [
            "Input data:  '\\nint main() {\\n    srand(time(NULL));\\n    test();\\n    assert(!ANY_FAILED);\\n    return 0;\\n}\\nbool ANY_F'\n",
            "Target data: 'int main() {\\n    srand(time(NULL));\\n    test();\\n    assert(!ANY_FAILED);\\n    return 0;\\n}\\nbool ANY_FA'\n"
          ],
          "name": "stdout"
        }
      ]
    },
    {
      "cell_type": "markdown",
      "metadata": {
        "id": "0k4TXq6piRxz",
        "colab_type": "text"
      },
      "source": [
        "## Pack into batches"
      ]
    },
    {
      "cell_type": "code",
      "metadata": {
        "id": "KZsTYWZxFike",
        "colab_type": "code",
        "outputId": "05df3aa1-1dd2-4689-d2a4-57dfc1f53f88",
        "colab": {
          "base_uri": "https://localhost:8080/",
          "height": 34
        }
      },
      "source": [
        "BATCH_SIZE = 64\n",
        "\n",
        "BUFFER_SIZE = 10000\n",
        "\n",
        "train = train_dataset.shuffle(BUFFER_SIZE).batch(BATCH_SIZE, drop_remainder=True)\n",
        "test = test_dataset.shuffle(BUFFER_SIZE).batch(BATCH_SIZE, drop_remainder=True)\n",
        "\n",
        "train"
      ],
      "execution_count": 14,
      "outputs": [
        {
          "output_type": "execute_result",
          "data": {
            "text/plain": [
              "<BatchDataset shapes: ((64, 100), (64, 100)), types: (tf.int64, tf.int64)>"
            ]
          },
          "metadata": {
            "tags": []
          },
          "execution_count": 14
        }
      ]
    },
    {
      "cell_type": "markdown",
      "metadata": {
        "id": "AuRY8SxkifZK",
        "colab_type": "text"
      },
      "source": [
        "# Models"
      ]
    },
    {
      "cell_type": "code",
      "metadata": {
        "id": "GvRlygDcFiki",
        "colab_type": "code",
        "colab": {}
      },
      "source": [
        "\n",
        "# Length of the vocabulary in chars\n",
        "vocab_size = len(vocab)\n",
        "\n",
        "# The embedding dimension\n",
        "embedding_dim = 256\n",
        "\n",
        "# Number of RNN units\n",
        "rnn_units = 1024"
      ],
      "execution_count": 0,
      "outputs": []
    },
    {
      "cell_type": "code",
      "metadata": {
        "id": "7oXmdQANFikl",
        "colab_type": "code",
        "colab": {}
      },
      "source": [
        "def one_layer_gru(vocab_size, embedding_dim, rnn_units, batch_size):\n",
        "  model = tf.keras.Sequential([\n",
        "    tf.keras.layers.Embedding(vocab_size, embedding_dim,\n",
        "                              batch_input_shape=[batch_size, None]),\n",
        "    tf.keras.layers.GRU(rnn_units,\n",
        "                        return_sequences=True,\n",
        "                        stateful=True,\n",
        "                        recurrent_initializer='glorot_uniform'),\n",
        "    tf.keras.layers.Dense(vocab_size)\n",
        "  ])\n",
        "  return model\n",
        "\n",
        "\n",
        "def one_layer_lstm(vocab_size, embedding_dim, rnn_units, batch_size):\n",
        "  model = tf.keras.Sequential([\n",
        "    tf.keras.layers.Embedding(vocab_size, embedding_dim,\n",
        "                              batch_input_shape=[batch_size, None]),\n",
        "    tf.keras.layers.LSTM(rnn_units,\n",
        "                        return_sequences=True,\n",
        "                        stateful=True,\n",
        "                        recurrent_initializer='glorot_uniform'),\n",
        "    tf.keras.layers.Dense(vocab_size)\n",
        "  ])\n",
        "  return model\n",
        "\n",
        "\n",
        "def two_layer_lstm(vocab_size, embedding_dim, rnn_units, batch_size):\n",
        "  model = tf.keras.Sequential([\n",
        "    tf.keras.layers.Embedding(vocab_size, embedding_dim,\n",
        "                              batch_input_shape=[batch_size, None]),\n",
        "    tf.keras.layers.LSTM(rnn_units,\n",
        "                        return_sequences=True,\n",
        "                        stateful=True,\n",
        "                        recurrent_initializer='glorot_uniform'),\n",
        "    tf.keras.layers.LSTM(rnn_units,\n",
        "                        return_sequences=True,\n",
        "                        stateful=True,\n",
        "                        recurrent_initializer='glorot_uniform'),\n",
        "    tf.keras.layers.Dense(vocab_size)\n",
        "  ])\n",
        "  return model\n",
        "\n",
        "\n",
        "def simple_rnn(vocab_size, embedding_dim, rnn_units, batch_size):\n",
        "  model = tf.keras.Sequential([\n",
        "    tf.keras.layers.Embedding(vocab_size, embedding_dim,\n",
        "                              batch_input_shape=[batch_size, None]),\n",
        "    tf.keras.layers.SimpleRNN(rnn_units,\n",
        "                        return_sequences=True,\n",
        "                        stateful=True,\n",
        "                        recurrent_initializer='glorot_uniform'),\n",
        "    tf.keras.layers.Dense(vocab_size)\n",
        "  ])\n",
        "  return model"
      ],
      "execution_count": 0,
      "outputs": []
    },
    {
      "cell_type": "code",
      "metadata": {
        "id": "Zfkro967FilG",
        "colab_type": "code",
        "colab": {}
      },
      "source": [
        "def loss(labels, logits):\n",
        "  return tf.keras.losses.sparse_categorical_crossentropy(labels, logits, from_logits=True)\n",
        "\n",
        "EPOCHS=10\n"
      ],
      "execution_count": 0,
      "outputs": []
    },
    {
      "cell_type": "markdown",
      "metadata": {
        "id": "LBClcTth9_DI",
        "colab_type": "text"
      },
      "source": [
        "## Set a checkpoints"
      ]
    },
    {
      "cell_type": "code",
      "metadata": {
        "id": "v3ay4ZCb98-h",
        "colab_type": "code",
        "colab": {}
      },
      "source": [
        "\n",
        "# Directory where the checkpoints will be saved\n",
        "checkpoint_dir = './training_checkpoints'\n",
        "# Name of the checkpoint files\n",
        "checkpoint_gru = f'{checkpoint_dir}/gru'\n",
        "checkpoint_one_lstm = f'{checkpoint_dir}/one_lstm'\n",
        "checkpoint_two_lstm = f'{checkpoint_dir}/two_lstm'\n",
        "checkpoint_simple_rnn = f'{checkpoint_dir}/simple_rnn'\n",
        "\n",
        "checkpoint_prefix_gru = os.path.join(checkpoint_gru, \"ckpt_{epoch}\")\n",
        "checkpoint_prefix_one_lstm = os.path.join(checkpoint_one_lstm, \"ckpt_{epoch}\")\n",
        "checkpoint_prefix_two_lstm = os.path.join(checkpoint_two_lstm, \"ckpt_{epoch}\")\n",
        "checkpoint_prefix_simple_rnn = os.path.join(checkpoint_simple_rnn, \"ckpt_{epoch}\")\n",
        "\n",
        "checkpoint_callback_gru=tf.keras.callbacks.ModelCheckpoint(\n",
        "    filepath=checkpoint_prefix_gru,\n",
        "    save_weights_only=True)\n",
        "\n",
        "checkpoint_callback_one_lstm=tf.keras.callbacks.ModelCheckpoint(\n",
        "    filepath=checkpoint_prefix_one_lstm,\n",
        "    save_weights_only=True)\n",
        "\n",
        "checkpoint_callback_two_lstm=tf.keras.callbacks.ModelCheckpoint(\n",
        "    filepath=checkpoint_prefix_two_lstm,\n",
        "    save_weights_only=True)\n",
        "\n",
        "checkpoint_callback_simple_rnn=tf.keras.callbacks.ModelCheckpoint(\n",
        "    filepath=checkpoint_prefix_simple_rnn,\n",
        "    save_weights_only=True)"
      ],
      "execution_count": 0,
      "outputs": []
    },
    {
      "cell_type": "markdown",
      "metadata": {
        "id": "F1v3fgxumEPj",
        "colab_type": "text"
      },
      "source": [
        "## One layer GRU fit"
      ]
    },
    {
      "cell_type": "code",
      "metadata": {
        "id": "-uZYpFguFiku",
        "colab_type": "code",
        "colab": {}
      },
      "source": [
        "model_gru = one_layer_gru(\n",
        "  vocab_size = len(vocab),\n",
        "  embedding_dim=embedding_dim,\n",
        "  rnn_units=rnn_units,\n",
        "  batch_size=BATCH_SIZE)"
      ],
      "execution_count": 0,
      "outputs": []
    },
    {
      "cell_type": "code",
      "metadata": {
        "id": "8meL-C-0Fik3",
        "colab_type": "code",
        "outputId": "39c32ca3-05a8-4d3a-c0db-5ff940f63ba3",
        "colab": {
          "base_uri": "https://localhost:8080/",
          "height": 255
        }
      },
      "source": [
        "model_gru.summary()"
      ],
      "execution_count": 20,
      "outputs": [
        {
          "output_type": "stream",
          "text": [
            "Model: \"sequential\"\n",
            "_________________________________________________________________\n",
            "Layer (type)                 Output Shape              Param #   \n",
            "=================================================================\n",
            "embedding (Embedding)        (64, None, 256)           24576     \n",
            "_________________________________________________________________\n",
            "gru (GRU)                    (64, None, 1024)          3938304   \n",
            "_________________________________________________________________\n",
            "dense (Dense)                (64, None, 96)            98400     \n",
            "=================================================================\n",
            "Total params: 4,061,280\n",
            "Trainable params: 4,061,280\n",
            "Non-trainable params: 0\n",
            "_________________________________________________________________\n"
          ],
          "name": "stdout"
        }
      ]
    },
    {
      "cell_type": "code",
      "metadata": {
        "id": "yvOsSrAfFilJ",
        "colab_type": "code",
        "colab": {}
      },
      "source": [
        "model_gru.compile(optimizer='adam', loss=loss, metrics=['accuracy'])"
      ],
      "execution_count": 0,
      "outputs": []
    },
    {
      "cell_type": "code",
      "metadata": {
        "id": "eQhzCoX0Filb",
        "colab_type": "code",
        "outputId": "da4257d5-c422-4ee7-a52a-b30b789ca4f6",
        "colab": {
          "base_uri": "https://localhost:8080/",
          "height": 357
        }
      },
      "source": [
        "history_gru = model_gru.fit(train, epochs=EPOCHS, callbacks=[checkpoint_callback_gru], validation_data=test)"
      ],
      "execution_count": 22,
      "outputs": [
        {
          "output_type": "stream",
          "text": [
            "Epoch 1/10\n",
            "565/565 [==============================] - 29s 51ms/step - loss: 1.8167 - accuracy: 0.5775 - val_loss: 1.2465 - val_accuracy: 0.6875\n",
            "Epoch 2/10\n",
            "565/565 [==============================] - 28s 50ms/step - loss: 1.0073 - accuracy: 0.7393 - val_loss: 0.9806 - val_accuracy: 0.7509\n",
            "Epoch 3/10\n",
            "565/565 [==============================] - 28s 50ms/step - loss: 0.8576 - accuracy: 0.7737 - val_loss: 0.9017 - val_accuracy: 0.7712\n",
            "Epoch 4/10\n",
            "565/565 [==============================] - 28s 50ms/step - loss: 0.7777 - accuracy: 0.7924 - val_loss: 0.8649 - val_accuracy: 0.7788\n",
            "Epoch 5/10\n",
            "565/565 [==============================] - 28s 50ms/step - loss: 0.7234 - accuracy: 0.8057 - val_loss: 0.8514 - val_accuracy: 0.7842\n",
            "Epoch 6/10\n",
            "565/565 [==============================] - 28s 50ms/step - loss: 0.6816 - accuracy: 0.8160 - val_loss: 0.8446 - val_accuracy: 0.7876\n",
            "Epoch 7/10\n",
            "565/565 [==============================] - 28s 50ms/step - loss: 0.6483 - accuracy: 0.8246 - val_loss: 0.8434 - val_accuracy: 0.7893\n",
            "Epoch 8/10\n",
            "565/565 [==============================] - 28s 50ms/step - loss: 0.6220 - accuracy: 0.8312 - val_loss: 0.8470 - val_accuracy: 0.7902\n",
            "Epoch 9/10\n",
            "565/565 [==============================] - 28s 50ms/step - loss: 0.5995 - accuracy: 0.8373 - val_loss: 0.8557 - val_accuracy: 0.7910\n",
            "Epoch 10/10\n",
            "565/565 [==============================] - 28s 50ms/step - loss: 0.5815 - accuracy: 0.8420 - val_loss: 0.8623 - val_accuracy: 0.7900\n"
          ],
          "name": "stdout"
        }
      ]
    },
    {
      "cell_type": "markdown",
      "metadata": {
        "id": "UmbJtd0rmMl6",
        "colab_type": "text"
      },
      "source": [
        "## One layer LSTM fit"
      ]
    },
    {
      "cell_type": "code",
      "metadata": {
        "colab_type": "code",
        "id": "PDuUdJSDmJ1j",
        "colab": {}
      },
      "source": [
        "model_one_lstm = one_layer_lstm(\n",
        "  vocab_size = len(vocab),\n",
        "  embedding_dim=embedding_dim,\n",
        "  rnn_units=rnn_units,\n",
        "  batch_size=BATCH_SIZE)"
      ],
      "execution_count": 0,
      "outputs": []
    },
    {
      "cell_type": "code",
      "metadata": {
        "colab_type": "code",
        "outputId": "2a6965c3-3ce1-41ce-9611-05122678346e",
        "id": "p1JFPG4emJ12",
        "colab": {
          "base_uri": "https://localhost:8080/",
          "height": 255
        }
      },
      "source": [
        "model_one_lstm.summary()"
      ],
      "execution_count": 24,
      "outputs": [
        {
          "output_type": "stream",
          "text": [
            "Model: \"sequential_1\"\n",
            "_________________________________________________________________\n",
            "Layer (type)                 Output Shape              Param #   \n",
            "=================================================================\n",
            "embedding_1 (Embedding)      (64, None, 256)           24576     \n",
            "_________________________________________________________________\n",
            "lstm (LSTM)                  (64, None, 1024)          5246976   \n",
            "_________________________________________________________________\n",
            "dense_1 (Dense)              (64, None, 96)            98400     \n",
            "=================================================================\n",
            "Total params: 5,369,952\n",
            "Trainable params: 5,369,952\n",
            "Non-trainable params: 0\n",
            "_________________________________________________________________\n"
          ],
          "name": "stdout"
        }
      ]
    },
    {
      "cell_type": "code",
      "metadata": {
        "colab_type": "code",
        "id": "dNzKu0NLmJ2N",
        "colab": {}
      },
      "source": [
        "model_one_lstm.compile(optimizer='adam', loss=loss, metrics=['accuracy'])"
      ],
      "execution_count": 0,
      "outputs": []
    },
    {
      "cell_type": "code",
      "metadata": {
        "colab_type": "code",
        "outputId": "651d916c-c50a-4b92-9c4a-8fde6f83fc2f",
        "id": "slwQFqzImJ2i",
        "colab": {
          "base_uri": "https://localhost:8080/",
          "height": 357
        }
      },
      "source": [
        "history_one_lstm = model_one_lstm.fit(train, epochs=EPOCHS, callbacks=[checkpoint_callback_one_lstm], validation_data=test)"
      ],
      "execution_count": 26,
      "outputs": [
        {
          "output_type": "stream",
          "text": [
            "Epoch 1/10\n",
            "565/565 [==============================] - 36s 64ms/step - loss: 1.6739 - accuracy: 0.5960 - val_loss: 1.1601 - val_accuracy: 0.7102\n",
            "Epoch 2/10\n",
            "565/565 [==============================] - 36s 63ms/step - loss: 0.9649 - accuracy: 0.7486 - val_loss: 0.9502 - val_accuracy: 0.7568\n",
            "Epoch 3/10\n",
            "565/565 [==============================] - 36s 63ms/step - loss: 0.8255 - accuracy: 0.7805 - val_loss: 0.8750 - val_accuracy: 0.7747\n",
            "Epoch 4/10\n",
            "565/565 [==============================] - 36s 63ms/step - loss: 0.7474 - accuracy: 0.7992 - val_loss: 0.8394 - val_accuracy: 0.7843\n",
            "Epoch 5/10\n",
            "565/565 [==============================] - 36s 63ms/step - loss: 0.6925 - accuracy: 0.8128 - val_loss: 0.8212 - val_accuracy: 0.7904\n",
            "Epoch 6/10\n",
            "565/565 [==============================] - 36s 63ms/step - loss: 0.6502 - accuracy: 0.8237 - val_loss: 0.8143 - val_accuracy: 0.7934\n",
            "Epoch 7/10\n",
            "565/565 [==============================] - 36s 64ms/step - loss: 0.6151 - accuracy: 0.8330 - val_loss: 0.8113 - val_accuracy: 0.7960\n",
            "Epoch 8/10\n",
            "565/565 [==============================] - 36s 63ms/step - loss: 0.5852 - accuracy: 0.8408 - val_loss: 0.8188 - val_accuracy: 0.7952\n",
            "Epoch 9/10\n",
            "565/565 [==============================] - 36s 63ms/step - loss: 0.5589 - accuracy: 0.8477 - val_loss: 0.8236 - val_accuracy: 0.7965\n",
            "Epoch 10/10\n",
            "565/565 [==============================] - 36s 63ms/step - loss: 0.5360 - accuracy: 0.8540 - val_loss: 0.8250 - val_accuracy: 0.7970\n"
          ],
          "name": "stdout"
        }
      ]
    },
    {
      "cell_type": "markdown",
      "metadata": {
        "colab_type": "text",
        "id": "Puu_XBmwmYc5"
      },
      "source": [
        "## Two layer LSTM fit"
      ]
    },
    {
      "cell_type": "code",
      "metadata": {
        "colab_type": "code",
        "id": "N7HkRINOmwpS",
        "colab": {}
      },
      "source": [
        "model_two_lstm = two_layer_lstm(\n",
        "  vocab_size = len(vocab),\n",
        "  embedding_dim=embedding_dim,\n",
        "  rnn_units=rnn_units,\n",
        "  batch_size=BATCH_SIZE)"
      ],
      "execution_count": 0,
      "outputs": []
    },
    {
      "cell_type": "code",
      "metadata": {
        "colab_type": "code",
        "outputId": "e9a57f84-3d79-4f98-83de-94e6ef52da8f",
        "id": "_aIwh1DImwpl",
        "colab": {
          "base_uri": "https://localhost:8080/",
          "height": 289
        }
      },
      "source": [
        "model_two_lstm.summary()"
      ],
      "execution_count": 28,
      "outputs": [
        {
          "output_type": "stream",
          "text": [
            "Model: \"sequential_2\"\n",
            "_________________________________________________________________\n",
            "Layer (type)                 Output Shape              Param #   \n",
            "=================================================================\n",
            "embedding_2 (Embedding)      (64, None, 256)           24576     \n",
            "_________________________________________________________________\n",
            "lstm_1 (LSTM)                (64, None, 1024)          5246976   \n",
            "_________________________________________________________________\n",
            "lstm_2 (LSTM)                (64, None, 1024)          8392704   \n",
            "_________________________________________________________________\n",
            "dense_2 (Dense)              (64, None, 96)            98400     \n",
            "=================================================================\n",
            "Total params: 13,762,656\n",
            "Trainable params: 13,762,656\n",
            "Non-trainable params: 0\n",
            "_________________________________________________________________\n"
          ],
          "name": "stdout"
        }
      ]
    },
    {
      "cell_type": "code",
      "metadata": {
        "colab_type": "code",
        "id": "1bNOCpKVmwpx",
        "colab": {}
      },
      "source": [
        "model_two_lstm.compile(optimizer='adam', loss=loss, metrics=['accuracy'])"
      ],
      "execution_count": 0,
      "outputs": []
    },
    {
      "cell_type": "code",
      "metadata": {
        "colab_type": "code",
        "outputId": "50a72354-d08c-4f67-8f96-4d653783d9c7",
        "id": "EG_kemuCmwp2",
        "colab": {
          "base_uri": "https://localhost:8080/",
          "height": 357
        }
      },
      "source": [
        "history_two_lstm = model_two_lstm.fit(train, epochs=EPOCHS, callbacks=[checkpoint_callback_two_lstm], validation_data=test)"
      ],
      "execution_count": 30,
      "outputs": [
        {
          "output_type": "stream",
          "text": [
            "Epoch 1/10\n",
            "565/565 [==============================] - 74s 132ms/step - loss: 1.7162 - accuracy: 0.5823 - val_loss: 1.1009 - val_accuracy: 0.7238\n",
            "Epoch 2/10\n",
            "565/565 [==============================] - 74s 131ms/step - loss: 0.9279 - accuracy: 0.7565 - val_loss: 0.9096 - val_accuracy: 0.7672\n",
            "Epoch 3/10\n",
            "565/565 [==============================] - 74s 131ms/step - loss: 0.7885 - accuracy: 0.7890 - val_loss: 0.8408 - val_accuracy: 0.7814\n",
            "Epoch 4/10\n",
            "565/565 [==============================] - 74s 131ms/step - loss: 0.7085 - accuracy: 0.8083 - val_loss: 0.8149 - val_accuracy: 0.7907\n",
            "Epoch 5/10\n",
            "565/565 [==============================] - 74s 131ms/step - loss: 0.6499 - accuracy: 0.8227 - val_loss: 0.8059 - val_accuracy: 0.7939\n",
            "Epoch 6/10\n",
            "565/565 [==============================] - 74s 131ms/step - loss: 0.6024 - accuracy: 0.8351 - val_loss: 0.8009 - val_accuracy: 0.7974\n",
            "Epoch 7/10\n",
            "565/565 [==============================] - 74s 131ms/step - loss: 0.5618 - accuracy: 0.8456 - val_loss: 0.8029 - val_accuracy: 0.7977\n",
            "Epoch 8/10\n",
            "565/565 [==============================] - 74s 131ms/step - loss: 0.5271 - accuracy: 0.8548 - val_loss: 0.8102 - val_accuracy: 0.7987\n",
            "Epoch 9/10\n",
            "565/565 [==============================] - 74s 131ms/step - loss: 0.4975 - accuracy: 0.8629 - val_loss: 0.8205 - val_accuracy: 0.7994\n",
            "Epoch 10/10\n",
            "565/565 [==============================] - 74s 132ms/step - loss: 0.4704 - accuracy: 0.8706 - val_loss: 0.8341 - val_accuracy: 0.7990\n"
          ],
          "name": "stdout"
        }
      ]
    },
    {
      "cell_type": "markdown",
      "metadata": {
        "colab_type": "text",
        "id": "IJlipsUfmeNM"
      },
      "source": [
        "## Simple RNN fit"
      ]
    },
    {
      "cell_type": "code",
      "metadata": {
        "colab_type": "code",
        "id": "hlJXa1VHmxN7",
        "colab": {}
      },
      "source": [
        "model_rnn = simple_rnn(\n",
        "  vocab_size = len(vocab),\n",
        "  embedding_dim=embedding_dim,\n",
        "  rnn_units=rnn_units,\n",
        "  batch_size=BATCH_SIZE)"
      ],
      "execution_count": 0,
      "outputs": []
    },
    {
      "cell_type": "code",
      "metadata": {
        "colab_type": "code",
        "id": "6pwvmHmDmxOG",
        "outputId": "79e6f3f3-2e32-4a14-9a9f-14d4c61cb108",
        "colab": {
          "base_uri": "https://localhost:8080/",
          "height": 255
        }
      },
      "source": [
        "model_rnn.summary()"
      ],
      "execution_count": 32,
      "outputs": [
        {
          "output_type": "stream",
          "text": [
            "Model: \"sequential_3\"\n",
            "_________________________________________________________________\n",
            "Layer (type)                 Output Shape              Param #   \n",
            "=================================================================\n",
            "embedding_3 (Embedding)      (64, None, 256)           24576     \n",
            "_________________________________________________________________\n",
            "simple_rnn (SimpleRNN)       (64, None, 1024)          1311744   \n",
            "_________________________________________________________________\n",
            "dense_3 (Dense)              (64, None, 96)            98400     \n",
            "=================================================================\n",
            "Total params: 1,434,720\n",
            "Trainable params: 1,434,720\n",
            "Non-trainable params: 0\n",
            "_________________________________________________________________\n"
          ],
          "name": "stdout"
        }
      ]
    },
    {
      "cell_type": "code",
      "metadata": {
        "colab_type": "code",
        "id": "QFlLOTiImxOR",
        "colab": {}
      },
      "source": [
        "model_rnn.compile(optimizer='adam', loss=loss, metrics=['accuracy'])"
      ],
      "execution_count": 0,
      "outputs": []
    },
    {
      "cell_type": "code",
      "metadata": {
        "colab_type": "code",
        "id": "mflMhulSmxOb",
        "outputId": "86e4e083-e948-4bd8-99d3-b43fb150c23a",
        "colab": {
          "base_uri": "https://localhost:8080/",
          "height": 357
        }
      },
      "source": [
        "history_rnn = model_rnn.fit(train, epochs=EPOCHS, callbacks = [checkpoint_callback_simple_rnn], validation_data=test)"
      ],
      "execution_count": 34,
      "outputs": [
        {
          "output_type": "stream",
          "text": [
            "Epoch 1/10\n",
            "565/565 [==============================] - 31s 55ms/step - loss: 1.7547 - accuracy: 0.5803 - val_loss: 1.4708 - val_accuracy: 0.6366\n",
            "Epoch 2/10\n",
            "565/565 [==============================] - 31s 55ms/step - loss: 1.1586 - accuracy: 0.7058 - val_loss: 1.1834 - val_accuracy: 0.7052\n",
            "Epoch 3/10\n",
            "565/565 [==============================] - 31s 54ms/step - loss: 1.0201 - accuracy: 0.7364 - val_loss: 1.0660 - val_accuracy: 0.7325\n",
            "Epoch 4/10\n",
            "565/565 [==============================] - 30s 53ms/step - loss: 0.9512 - accuracy: 0.7517 - val_loss: 1.0104 - val_accuracy: 0.7459\n",
            "Epoch 5/10\n",
            "565/565 [==============================] - 30s 54ms/step - loss: 0.9063 - accuracy: 0.7621 - val_loss: 0.9984 - val_accuracy: 0.7514\n",
            "Epoch 6/10\n",
            "565/565 [==============================] - 30s 53ms/step - loss: 0.8739 - accuracy: 0.7691 - val_loss: 0.9792 - val_accuracy: 0.7535\n",
            "Epoch 7/10\n",
            "565/565 [==============================] - 30s 53ms/step - loss: 0.8497 - accuracy: 0.7748 - val_loss: 0.9592 - val_accuracy: 0.7591\n",
            "Epoch 8/10\n",
            "565/565 [==============================] - 30s 54ms/step - loss: 0.8294 - accuracy: 0.7795 - val_loss: 0.9567 - val_accuracy: 0.7611\n",
            "Epoch 9/10\n",
            "565/565 [==============================] - 30s 54ms/step - loss: 0.8143 - accuracy: 0.7829 - val_loss: 0.9463 - val_accuracy: 0.7643\n",
            "Epoch 10/10\n",
            "565/565 [==============================] - 30s 53ms/step - loss: 0.8011 - accuracy: 0.7859 - val_loss: 0.9419 - val_accuracy: 0.7658\n"
          ],
          "name": "stdout"
        }
      ]
    },
    {
      "cell_type": "markdown",
      "metadata": {
        "id": "ERnEe_su_ffS",
        "colab_type": "text"
      },
      "source": [
        "\n",
        "# Generate text"
      ]
    },
    {
      "cell_type": "code",
      "metadata": {
        "id": "eH30tnXqBKXd",
        "colab_type": "code",
        "colab": {}
      },
      "source": [
        "def generate_text(model, start_string):\n",
        "  # Evaluation step (generating text using the learned model)\n",
        "\n",
        "  # Number of characters to generate\n",
        "  num_generate = 500\n",
        "\n",
        "  # Converting our start string to numbers (vectorizing)\n",
        "  input_eval = [char2idx[s] for s in start_string]\n",
        "  input_eval = tf.expand_dims(input_eval, 0)\n",
        "\n",
        "  # Empty string to store our results\n",
        "  text_generated = []\n",
        "\n",
        "  # Low temperatures results in more predictable text.\n",
        "  # Higher temperatures results in more surprising text.\n",
        "  # Experiment to find the best setting.\n",
        "  temperature = 1.0\n",
        "\n",
        "  # Here batch size == 1\n",
        "  model.reset_states()\n",
        "  for i in range(num_generate):\n",
        "      predictions = model(input_eval)\n",
        "      # remove the batch dimension\n",
        "      predictions = tf.squeeze(predictions, 0)\n",
        "\n",
        "      # using a categorical distribution to predict the character returned by the model\n",
        "      predictions = predictions / temperature\n",
        "      predicted_id = tf.random.categorical(predictions, num_samples=1)[-1,0].numpy()\n",
        "\n",
        "      # We pass the predicted character as the next input to the model\n",
        "      # along with the previous hidden state\n",
        "      input_eval = tf.expand_dims([predicted_id], 0)\n",
        "\n",
        "      text_generated.append(idx2char[predicted_id])\n",
        "\n",
        "  return (start_string + ''.join(text_generated))"
      ],
      "execution_count": 0,
      "outputs": []
    },
    {
      "cell_type": "code",
      "metadata": {
        "id": "eL5HI1nd_f8l",
        "colab_type": "code",
        "colab": {}
      },
      "source": [
        "# GRU\n",
        "model_gru = one_layer_gru(\n",
        "  vocab_size = len(vocab),\n",
        "  embedding_dim=embedding_dim,\n",
        "  rnn_units=rnn_units,\n",
        "  batch_size=1)\n",
        "\n",
        "model_gru.load_weights(tf.train.latest_checkpoint(checkpoint_gru))\n",
        "\n",
        "model_gru.build(tf.TensorShape([1, None]))\n",
        "\n",
        "\n",
        "# One layer LSTM\n",
        "model_one_lstm = one_layer_lstm(\n",
        "  vocab_size = len(vocab),\n",
        "  embedding_dim=embedding_dim,\n",
        "  rnn_units=rnn_units,\n",
        "  batch_size=1)\n",
        "\n",
        "model_one_lstm.load_weights(tf.train.latest_checkpoint(checkpoint_one_lstm))\n",
        "\n",
        "model_one_lstm.build(tf.TensorShape([1, None]))\n",
        "\n",
        "\n",
        "# Two layers LSTM\n",
        "model_two_lstm = two_layer_lstm(\n",
        "  vocab_size = len(vocab),\n",
        "  embedding_dim=embedding_dim,\n",
        "  rnn_units=rnn_units,\n",
        "  batch_size=1)\n",
        "\n",
        "model_two_lstm.load_weights(tf.train.latest_checkpoint(checkpoint_two_lstm))\n",
        "\n",
        "model_two_lstm.build(tf.TensorShape([1, None]))\n",
        "\n",
        "\n",
        "# Simple RNN\n",
        "model_rnn = simple_rnn(\n",
        "  vocab_size = len(vocab),\n",
        "  embedding_dim=embedding_dim,\n",
        "  rnn_units=rnn_units,\n",
        "  batch_size=1)\n",
        "\n",
        "model_rnn.load_weights(tf.train.latest_checkpoint(checkpoint_simple_rnn))\n",
        "\n",
        "model_rnn.build(tf.TensorShape([1, None]))"
      ],
      "execution_count": 0,
      "outputs": []
    },
    {
      "cell_type": "markdown",
      "metadata": {
        "id": "6GEGhB3dQ6E9",
        "colab_type": "text"
      },
      "source": [
        "## GRU"
      ]
    },
    {
      "cell_type": "code",
      "metadata": {
        "id": "KsW6yFSIBTf8",
        "colab_type": "code",
        "outputId": "ada00715-8eda-443a-b54d-8de592aaa35e",
        "colab": {
          "base_uri": "https://localhost:8080/",
          "height": 493
        }
      },
      "source": [
        "print(generate_text(model_gru, start_string=\"int main() {\"))"
      ],
      "execution_count": 61,
      "outputs": [
        {
          "output_type": "stream",
          "text": [
            "int main() {\n",
            " ;\n",
            "\n",
            "        int pos2 = 0;\n",
            "\n",
            "        for(int i = 1;i < m;++i) no_to[i] = cont[i + 1] ];\n",
            "    }\n",
            "}\n",
            "\n",
            "int main(){\n",
            "    int T,l,r;\n",
            "\n",
            "    ount(n,cont 0));\n",
            "        aux.A[0]=0;\n",
            "        for(int i=k-1;i>=0;i--)\n",
            "        if(!visited[aux.b][i]) return aux.time;\n",
            "    }\n",
            "    for (int i: adj[x]) if 1\n",
            "\n",
            "using namespace std;\n",
            "\n",
            "vector<int> L[100005];\n",
            "int ani[9][93817];\n",
            "\n",
            "int primo[38][28],memo[98][m1][C2][(1 << 55)];\n",
            "\n",
            "int score(char c){\n",
            "    if(c>=0 && b-'-6<<r) return I>     int m = cost[ (ad        val_rest_label[0] = {0,\n"
          ],
          "name": "stdout"
        }
      ]
    },
    {
      "cell_type": "markdown",
      "metadata": {
        "id": "UeFBtzzRQ9wR",
        "colab_type": "text"
      },
      "source": [
        "## One layer LSTM"
      ]
    },
    {
      "cell_type": "code",
      "metadata": {
        "id": "7XlzXhn9Bhws",
        "colab_type": "code",
        "outputId": "37d8f70f-d4be-4d23-b8d7-d94f86973163",
        "colab": {
          "base_uri": "https://localhost:8080/",
          "height": 578
        }
      },
      "source": [
        "print(generate_text(model_one_lstm, start_string=\"int main() {\"))"
      ],
      "execution_count": 62,
      "outputs": [
        {
          "output_type": "stream",
          "text": [
            "int main() {\n",
            "\n",
            "    setIO(\"prrome\");\n",
            "    re(N,M); re(C);\n",
            "\n",
            "         return 0;\n",
            "}\n",
            "#include<iostream>\n",
            "#include<bitset>\n",
            "#include<algorithm>\n",
            "#include <vector>\n",
            "#include <string>\n",
            "#include <map>\n",
            "\n",
            "using namespace std;\n",
            "\n",
            "int main(){\n",
            "    int C,N,a[10000],ans = 0,cur = N;\n",
            "    dp[0] = 1;\n",
            "    for(int i = 0;i < N;++i) return 0;\n",
            "}\n",
            "#include <cstdio>\n",
            "#include <cstring>\n",
            "\n",
            "using namespace std;\n",
            "\n",
            "#define MOD 1000000000000\n",
            "\n",
            "int Q[4 * MAXN];\n",
            "vector< vector<int> > L;\n",
            "dequery(int l, int r) {\n",
            "    adj[u].pb(v); }\n",
            "  poly[v].insert(par[cur] \n"
          ],
          "name": "stdout"
        }
      ]
    },
    {
      "cell_type": "markdown",
      "metadata": {
        "id": "U6avxu1zRF-g",
        "colab_type": "text"
      },
      "source": [
        "## Two layers LSTM"
      ]
    },
    {
      "cell_type": "code",
      "metadata": {
        "id": "K07Xy-8rBh7K",
        "colab_type": "code",
        "outputId": "4062efb2-05b0-46fc-84a8-2947e13f4ef9",
        "colab": {
          "base_uri": "https://localhost:8080/",
          "height": 391
        }
      },
      "source": [
        "print(generate_text(model_two_lstm, start_string=\"int main() {\"))"
      ],
      "execution_count": 63,
      "outputs": [
        {
          "output_type": "stream",
          "text": [
            "int main() { E.rollink; int BIMXN][MAX_N], c[MAXN], p[MAXN], W[MAXLEN],l[MAXE], next[E] = last[v]; last[v] = E++;\n",
            "    }\n",
            "\n",
            "    bit[v] = k;\n",
            "\n",
            "       for(int i = 0,a,b,p;i<T;++i){\n",
            "            scanf(\"%d\",&m);\n",
            "            add_edge(a,b);\n",
            "        }\n",
            "\n",
            "        f++;\n",
            "    }\n",
            "\n",
            "    return integrour=p[ans_Arg]>\n",
            "        inv = randint(0, n-1);\n",
            "        assert(sz(v) == 3);\n",
            "        int v = rand() % 3;\n",
            "\n",
            "        if (s[0] != M) {\n",
            "            trav(a,sz(b)) add[b] = merge(abs, b.get(R));\n",
            "            }\n",
            "            svoid query(long long \n"
          ],
          "name": "stdout"
        }
      ]
    },
    {
      "cell_type": "markdown",
      "metadata": {
        "id": "iskMWD5xRJ4t",
        "colab_type": "text"
      },
      "source": [
        "## Simple RNN"
      ]
    },
    {
      "cell_type": "code",
      "metadata": {
        "id": "U3DcaHiGBiIJ",
        "colab_type": "code",
        "outputId": "efe4e5b4-7c19-4e29-d3b4-33f0211a3d98",
        "colab": {
          "base_uri": "https://localhost:8080/",
          "height": 357
        }
      },
      "source": [
        "print(generate_text(model_rnn, start_string=\"int main() {\"))"
      ],
      "execution_count": 64,
      "outputs": [
        {
          "output_type": "stream",
          "text": [
            "int main() {\n",
            "\n",
            "    seq[pos] = 1 + M[cur].size();\n",
            "\n",
            "    for(int i = 1;i < m;++i) cin>>x;\n",
            "\n",
            "        if(dp[0]=true;\n",
            "\n",
            "        int best = 0;\n",
            "\n",
            "        while(lo < hi){\n",
            "            int mi = (checkr[i] && dist[i][j] != 0 ? a[i] : Ring[0].f), b[i] -= a;\n",
            "     R(C).sont(a.f+B)%alld.ragre       if (c == 'W' && cur % p1 && valid(-1,-1)) ++t[c] += a[i * N + dc[cur],min(pos[ind]), l->itINF(A,s);\n",
            "  return newn = P.size();\n",
            " la nt = 0; x <<=N;\n",
            "++i) n /= 3;\n",
            "   else cur = Q[head]; g2=XC;\n",
            "    else return min(l + t) / 2 < n * b;\n",
            " }\n",
            "\n"
          ],
          "name": "stdout"
        }
      ]
    },
    {
      "cell_type": "markdown",
      "metadata": {
        "id": "1AUD78kFNsZD",
        "colab_type": "text"
      },
      "source": [
        "# Visualize Metrics"
      ]
    },
    {
      "cell_type": "code",
      "metadata": {
        "id": "Gh-MAzmVCofV",
        "colab_type": "code",
        "colab": {}
      },
      "source": [
        "def draw_metric(history, metric, name):\n",
        "  # Get training and test loss histories\n",
        "  training_loss = history.history[metric]\n",
        "  test_loss = history.history['val_' + metric]\n",
        "\n",
        "  # Create count of the number of epochs\n",
        "  epoch_count = range(1, len(training_loss) + 1)\n",
        "\n",
        "  # Visualize loss history\n",
        "  plt.plot(epoch_count, training_loss, 'r--')\n",
        "  plt.plot(epoch_count, test_loss, 'b-')\n",
        "  plt.legend(['Training '+metric, 'Test '+metric])\n",
        "  plt.xlabel('Epoch')\n",
        "  plt.ylabel(metric)\n",
        "  # plt.show()\n",
        "  plt.savefig(f'/content/drive/My Drive/studies/university/AI/img/{name}_{metric}.png')\n"
      ],
      "execution_count": 0,
      "outputs": []
    },
    {
      "cell_type": "markdown",
      "metadata": {
        "id": "PcDfhHSBNxMC",
        "colab_type": "text"
      },
      "source": [
        "### GRU"
      ]
    },
    {
      "cell_type": "code",
      "metadata": {
        "id": "BH9vGXPKMyg-",
        "colab_type": "code",
        "outputId": "5c0fd050-5782-4469-b85f-ce7cfc62ad78",
        "colab": {
          "base_uri": "https://localhost:8080/",
          "height": 279
        }
      },
      "source": [
        "draw_metric(history_gru, 'loss', 'gru')"
      ],
      "execution_count": 52,
      "outputs": [
        {
          "output_type": "display_data",
          "data": {
            "image/png": "[encoded data removed]",
            "text/plain": [
              "<Figure size 432x288 with 1 Axes>"
            ]
          },
          "metadata": {
            "tags": [],
            "needs_background": "light"
          }
        }
      ]
    },
    {
      "cell_type": "code",
      "metadata": {
        "id": "m6c-HAAcMfen",
        "colab_type": "code",
        "outputId": "f13bdf4e-3d02-44b8-baec-832664d45aef",
        "colab": {
          "base_uri": "https://localhost:8080/",
          "height": 279
        }
      },
      "source": [
        "draw_metric(history_gru, 'accuracy', 'gru')"
      ],
      "execution_count": 53,
      "outputs": [
        {
          "output_type": "display_data",
          "data": {
            "image/png": "[encoded data removed]",
            "text/plain": [
              "<Figure size 432x288 with 1 Axes>"
            ]
          },
          "metadata": {
            "tags": [],
            "needs_background": "light"
          }
        }
      ]
    },
    {
      "cell_type": "markdown",
      "metadata": {
        "id": "cEUGl6bsN8d9",
        "colab_type": "text"
      },
      "source": [
        "### One layer LSTM"
      ]
    },
    {
      "cell_type": "code",
      "metadata": {
        "id": "Ws_7oaWJNiGG",
        "colab_type": "code",
        "outputId": "c36c98d6-9515-4ef9-8bda-bf9008433db1",
        "colab": {
          "base_uri": "https://localhost:8080/",
          "height": 279
        }
      },
      "source": [
        "draw_metric(history_one_lstm, 'loss', 'one_lstm')"
      ],
      "execution_count": 54,
      "outputs": [
        {
          "output_type": "display_data",
          "data": {
            "image/png": "[encoded data removed]",
            "text/plain": [
              "<Figure size 432x288 with 1 Axes>"
            ]
          },
          "metadata": {
            "tags": [],
            "needs_background": "light"
          }
        }
      ]
    },
    {
      "cell_type": "code",
      "metadata": {
        "id": "bEHIKzFnOVtu",
        "colab_type": "code",
        "outputId": "d21618bc-f706-40be-804f-4f0a5ddd945b",
        "colab": {
          "base_uri": "https://localhost:8080/",
          "height": 279
        }
      },
      "source": [
        "draw_metric(history_one_lstm, 'accuracy', 'one_lstm')"
      ],
      "execution_count": 55,
      "outputs": [
        {
          "output_type": "display_data",
          "data": {
            "image/png": "[encoded data removed]",
            "text/plain": [
              "<Figure size 432x288 with 1 Axes>"
            ]
          },
          "metadata": {
            "tags": [],
            "needs_background": "light"
          }
        }
      ]
    },
    {
      "cell_type": "markdown",
      "metadata": {
        "colab_type": "text",
        "id": "yzWgZ4-bOaPh"
      },
      "source": [
        "### Two layer LSTM"
      ]
    },
    {
      "cell_type": "code",
      "metadata": {
        "colab_type": "code",
        "outputId": "ac44a4f0-84ff-49b6-dccb-7da3960bd638",
        "id": "XPW2TMjUOaPo",
        "colab": {
          "base_uri": "https://localhost:8080/",
          "height": 279
        }
      },
      "source": [
        "draw_metric(history_two_lstm, 'loss', 'two_lstm')"
      ],
      "execution_count": 56,
      "outputs": [
        {
          "output_type": "display_data",
          "data": {
            "image/png": "[encoded data removed]",
            "text/plain": [
              "<Figure size 432x288 with 1 Axes>"
            ]
          },
          "metadata": {
            "tags": [],
            "needs_background": "light"
          }
        }
      ]
    },
    {
      "cell_type": "code",
      "metadata": {
        "colab_type": "code",
        "id": "dhfiJ2DVOaQT",
        "outputId": "a0b05c76-5cbf-416a-8511-17bfb5e3293b",
        "colab": {
          "base_uri": "https://localhost:8080/",
          "height": 279
        }
      },
      "source": [
        "draw_metric(history_two_lstm, 'accuracy', 'two_lstm')"
      ],
      "execution_count": 57,
      "outputs": [
        {
          "output_type": "display_data",
          "data": {
            "image/png": "[encoded data removed]",
            "text/plain": [
              "<Figure size 432x288 with 1 Axes>"
            ]
          },
          "metadata": {
            "tags": [],
            "needs_background": "light"
          }
        }
      ]
    },
    {
      "cell_type": "markdown",
      "metadata": {
        "colab_type": "text",
        "id": "RbAb6LFZOxfi"
      },
      "source": [
        "### Simple RNN"
      ]
    },
    {
      "cell_type": "code",
      "metadata": {
        "colab_type": "code",
        "outputId": "4f6006a2-59dc-43a9-fe99-fea1e7844f53",
        "id": "FOIfiTl_Oxfv",
        "colab": {
          "base_uri": "https://localhost:8080/",
          "height": 283
        }
      },
      "source": [
        "draw_metric(history_rnn, 'loss', 'rnn')"
      ],
      "execution_count": 58,
      "outputs": [
        {
          "output_type": "display_data",
          "data": {
            "image/png": "[encoded data removed]",
            "text/plain": [
              "<Figure size 432x288 with 1 Axes>"
            ]
          },
          "metadata": {
            "tags": [],
            "needs_background": "light"
          }
        }
      ]
    },
    {
      "cell_type": "code",
      "metadata": {
        "colab_type": "code",
        "id": "feVLGQCyOxgA",
        "outputId": "5511344e-6d06-4c65-d92a-dfb50c792400",
        "colab": {
          "base_uri": "https://localhost:8080/",
          "height": 279
        }
      },
      "source": [
        "draw_metric(history_rnn, 'accuracy', 'rnn')"
      ],
      "execution_count": 59,
      "outputs": [
        {
          "output_type": "display_data",
          "data": {
            "image/png": "[encoded data removed]",
            "text/plain": [
              "<Figure size 432x288 with 1 Axes>"
            ]
          },
          "metadata": {
            "tags": [],
            "needs_background": "light"
          }
        }
      ]
    },
    {
      "cell_type": "code",
      "metadata": {
        "id": "-aTovHQOO3iI",
        "colab_type": "code",
        "colab": {}
      },
      "source": [
        ""
      ],
      "execution_count": 0,
      "outputs": []
    }
  ]
}